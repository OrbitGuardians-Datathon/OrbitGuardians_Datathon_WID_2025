{
 "cells": [
  {
   "cell_type": "code",
   "execution_count": 1,
   "id": "20e95661-68be-4437-ae6e-9e543656a02e",
   "metadata": {},
   "outputs": [],
   "source": [
    "import numpy as np\n",
    "import pandas as pd\n",
    "import json"
   ]
  },
  {
   "cell_type": "code",
   "execution_count": 2,
   "id": "3e7c86f0-9277-45cb-9e65-316ad87a27cb",
   "metadata": {},
   "outputs": [],
   "source": [
    "# Load dataset & extract features from TLEs\n",
    "\n",
    "with open(\"satellite_data_new.json\", \"r\") as f:\n",
    "    raw = json.load(f)"
   ]
  },
  {
   "cell_type": "code",
   "execution_count": 3,
   "id": "90b3b99a-7dea-422c-af42-7891e712caad",
   "metadata": {},
   "outputs": [
    {
     "data": {
      "text/html": [
       "<div>\n",
       "<style scoped>\n",
       "    .dataframe tbody tr th:only-of-type {\n",
       "        vertical-align: middle;\n",
       "    }\n",
       "\n",
       "    .dataframe tbody tr th {\n",
       "        vertical-align: top;\n",
       "    }\n",
       "\n",
       "    .dataframe thead th {\n",
       "        text-align: right;\n",
       "    }\n",
       "</style>\n",
       "<table border=\"1\" class=\"dataframe\">\n",
       "  <thead>\n",
       "    <tr style=\"text-align: right;\">\n",
       "      <th></th>\n",
       "      <th>OBJECT_NAME</th>\n",
       "      <th>NORAD_CAT_ID</th>\n",
       "      <th>INTLDES</th>\n",
       "      <th>COUNTRY</th>\n",
       "      <th>LAUNCH_DATE</th>\n",
       "      <th>TLE_DATA</th>\n",
       "    </tr>\n",
       "  </thead>\n",
       "  <tbody>\n",
       "    <tr>\n",
       "      <th>0</th>\n",
       "      <td>EXPLORER 1</td>\n",
       "      <td>4</td>\n",
       "      <td>1958-001A</td>\n",
       "      <td>US</td>\n",
       "      <td>1958-02-01</td>\n",
       "      <td>{'TLE_OBJECT_NAME': 'EXPLORER 1', 'TLE_LINE1':...</td>\n",
       "    </tr>\n",
       "    <tr>\n",
       "      <th>1</th>\n",
       "      <td>VANGUARD 1</td>\n",
       "      <td>5</td>\n",
       "      <td>1958-002B</td>\n",
       "      <td>US</td>\n",
       "      <td>1958-03-17</td>\n",
       "      <td>{'TLE_OBJECT_NAME': 'VANGUARD 1', 'TLE_LINE1':...</td>\n",
       "    </tr>\n",
       "    <tr>\n",
       "      <th>2</th>\n",
       "      <td>EXPLORER 3</td>\n",
       "      <td>6</td>\n",
       "      <td>1958-003A</td>\n",
       "      <td>US</td>\n",
       "      <td>1958-03-26</td>\n",
       "      <td>None</td>\n",
       "    </tr>\n",
       "    <tr>\n",
       "      <th>3</th>\n",
       "      <td>EXPLORER 4</td>\n",
       "      <td>9</td>\n",
       "      <td>1958-005A</td>\n",
       "      <td>US</td>\n",
       "      <td>1958-07-26</td>\n",
       "      <td>{'TLE_OBJECT_NAME': 'EXPLORER 4', 'TLE_LINE1':...</td>\n",
       "    </tr>\n",
       "    <tr>\n",
       "      <th>4</th>\n",
       "      <td>SCORE</td>\n",
       "      <td>10</td>\n",
       "      <td>1958-006A</td>\n",
       "      <td>US</td>\n",
       "      <td>1958-12-18</td>\n",
       "      <td>None</td>\n",
       "    </tr>\n",
       "    <tr>\n",
       "      <th>...</th>\n",
       "      <td>...</td>\n",
       "      <td>...</td>\n",
       "      <td>...</td>\n",
       "      <td>...</td>\n",
       "      <td>...</td>\n",
       "      <td>...</td>\n",
       "    </tr>\n",
       "    <tr>\n",
       "      <th>33681</th>\n",
       "      <td>OBJECT E</td>\n",
       "      <td>65263</td>\n",
       "      <td>2025-180E</td>\n",
       "      <td>PRC</td>\n",
       "      <td>2025-08-19</td>\n",
       "      <td>None</td>\n",
       "    </tr>\n",
       "    <tr>\n",
       "      <th>33682</th>\n",
       "      <td>ZK-1A R/B</td>\n",
       "      <td>65264</td>\n",
       "      <td>2025-180F</td>\n",
       "      <td>PRC</td>\n",
       "      <td>2025-08-19</td>\n",
       "      <td>None</td>\n",
       "    </tr>\n",
       "    <tr>\n",
       "      <th>33683</th>\n",
       "      <td>USA 555</td>\n",
       "      <td>65271</td>\n",
       "      <td>2025-183A</td>\n",
       "      <td>US</td>\n",
       "      <td>2025-08-22</td>\n",
       "      <td>None</td>\n",
       "    </tr>\n",
       "    <tr>\n",
       "      <th>33684</th>\n",
       "      <td>LIMASAT</td>\n",
       "      <td>65272</td>\n",
       "      <td>2025-183B</td>\n",
       "      <td>US</td>\n",
       "      <td>2025-08-22</td>\n",
       "      <td>None</td>\n",
       "    </tr>\n",
       "    <tr>\n",
       "      <th>33685</th>\n",
       "      <td>DRAGON CRS-33</td>\n",
       "      <td>65304</td>\n",
       "      <td>2025-186A</td>\n",
       "      <td>US</td>\n",
       "      <td>2025-08-24</td>\n",
       "      <td>None</td>\n",
       "    </tr>\n",
       "  </tbody>\n",
       "</table>\n",
       "<p>33686 rows × 6 columns</p>\n",
       "</div>"
      ],
      "text/plain": [
       "         OBJECT_NAME NORAD_CAT_ID    INTLDES COUNTRY LAUNCH_DATE  \\\n",
       "0         EXPLORER 1            4  1958-001A      US  1958-02-01   \n",
       "1         VANGUARD 1            5  1958-002B      US  1958-03-17   \n",
       "2         EXPLORER 3            6  1958-003A      US  1958-03-26   \n",
       "3         EXPLORER 4            9  1958-005A      US  1958-07-26   \n",
       "4              SCORE           10  1958-006A      US  1958-12-18   \n",
       "...              ...          ...        ...     ...         ...   \n",
       "33681       OBJECT E        65263  2025-180E     PRC  2025-08-19   \n",
       "33682      ZK-1A R/B        65264  2025-180F     PRC  2025-08-19   \n",
       "33683        USA 555        65271  2025-183A      US  2025-08-22   \n",
       "33684        LIMASAT        65272  2025-183B      US  2025-08-22   \n",
       "33685  DRAGON CRS-33        65304  2025-186A      US  2025-08-24   \n",
       "\n",
       "                                                TLE_DATA  \n",
       "0      {'TLE_OBJECT_NAME': 'EXPLORER 1', 'TLE_LINE1':...  \n",
       "1      {'TLE_OBJECT_NAME': 'VANGUARD 1', 'TLE_LINE1':...  \n",
       "2                                                   None  \n",
       "3      {'TLE_OBJECT_NAME': 'EXPLORER 4', 'TLE_LINE1':...  \n",
       "4                                                   None  \n",
       "...                                                  ...  \n",
       "33681                                               None  \n",
       "33682                                               None  \n",
       "33683                                               None  \n",
       "33684                                               None  \n",
       "33685                                               None  \n",
       "\n",
       "[33686 rows x 6 columns]"
      ]
     },
     "execution_count": 3,
     "metadata": {},
     "output_type": "execute_result"
    }
   ],
   "source": [
    "df = pd.DataFrame(raw)\n",
    "df"
   ]
  },
  {
   "cell_type": "code",
   "execution_count": 4,
   "id": "97c8bb0a-05bc-4aa9-8864-cbc1f1ea411d",
   "metadata": {},
   "outputs": [
    {
     "name": "stdout",
     "output_type": "stream",
     "text": [
      "<class 'pandas.core.frame.DataFrame'>\n",
      "RangeIndex: 33686 entries, 0 to 33685\n",
      "Data columns (total 6 columns):\n",
      " #   Column        Non-Null Count  Dtype \n",
      "---  ------        --------------  ----- \n",
      " 0   OBJECT_NAME   33686 non-null  object\n",
      " 1   NORAD_CAT_ID  33686 non-null  object\n",
      " 2   INTLDES       33686 non-null  object\n",
      " 3   COUNTRY       33686 non-null  object\n",
      " 4   LAUNCH_DATE   33686 non-null  object\n",
      " 5   TLE_DATA      23663 non-null  object\n",
      "dtypes: object(6)\n",
      "memory usage: 1.5+ MB\n"
     ]
    }
   ],
   "source": [
    "df.info()"
   ]
  },
  {
   "cell_type": "code",
   "execution_count": 5,
   "id": "6e68d72c-a1d3-4ad4-af10-59bbb7ee9040",
   "metadata": {},
   "outputs": [
    {
     "data": {
      "text/plain": [
       "COUNTRY\n",
       "US     24932\n",
       "PRC     8648\n",
       "CA       106\n",
       "Name: count, dtype: int64"
      ]
     },
     "execution_count": 5,
     "metadata": {},
     "output_type": "execute_result"
    }
   ],
   "source": [
    "df[\"COUNTRY\"].value_counts()"
   ]
  },
  {
   "cell_type": "code",
   "execution_count": 6,
   "id": "96b8f4dc-7f9b-4c9f-b4d3-dbf914cee9bc",
   "metadata": {},
   "outputs": [
    {
     "data": {
      "text/plain": [
       "OBJECT_NAME         0\n",
       "NORAD_CAT_ID        0\n",
       "INTLDES             0\n",
       "COUNTRY             0\n",
       "LAUNCH_DATE         0\n",
       "TLE_DATA        10023\n",
       "dtype: int64"
      ]
     },
     "execution_count": 6,
     "metadata": {},
     "output_type": "execute_result"
    }
   ],
   "source": [
    "df.isnull().sum()"
   ]
  }
 ],
 "metadata": {
  "kernelspec": {
   "display_name": "Python [conda env:base] *",
   "language": "python",
   "name": "conda-base-py"
  },
  "language_info": {
   "codemirror_mode": {
    "name": "ipython",
    "version": 3
   },
   "file_extension": ".py",
   "mimetype": "text/x-python",
   "name": "python",
   "nbconvert_exporter": "python",
   "pygments_lexer": "ipython3",
   "version": "3.11.8"
  }
 },
 "nbformat": 4,
 "nbformat_minor": 5
}
