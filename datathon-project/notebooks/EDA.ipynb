{
 "cells": [
  {
   "cell_type": "markdown",
   "id": "e0df5b0c-fcea-40fd-9779-f1e2e96c1e9d",
   "metadata": {},
   "source": [
    "# Nisrin Dhoondia"
   ]
  },
  {
   "cell_type": "markdown",
   "id": "9fee1aa7-3c53-4ba7-934d-c390de6786fc",
   "metadata": {},
   "source": [
    "# Exploratory Data Analysis (EDA)\n",
    "\n",
    "This notebook performs initial exploration of the satellite dataset to understand the dataset contents\n",
    "\n",
    "# Note: The full pipeline code is implemented in  \n",
    "[src/satellite_clustering_anomaly_pipeline.py](https://github.com/OrbitGuardians-Datathon/OrbitGuardians_Datathon_WID_2025/blob/main/datathon-project/src/satellite_clustering_anomaly_pipeline.py)"
   ]
  },
  {
   "cell_type": "code",
   "execution_count": 3,
   "id": "20e95661-68be-4437-ae6e-9e543656a02e",
   "metadata": {},
   "outputs": [],
   "source": [
    "# Import libraries\n",
    "import numpy as np\n",
    "import pandas as pd\n",
    "import json"
   ]
  },
  {
   "cell_type": "code",
   "execution_count": 4,
   "id": "3e7c86f0-9277-45cb-9e65-316ad87a27cb",
   "metadata": {},
   "outputs": [],
   "source": [
    "# Load dataset\n",
    "with open(\"satellite_data.json\", \"r\") as f:\n",
    "    raw = json.load(f)"
   ]
  },
  {
   "cell_type": "code",
   "execution_count": 5,
   "id": "90b3b99a-7dea-422c-af42-7891e712caad",
   "metadata": {},
   "outputs": [
    {
     "data": {
      "text/html": [
       "<div>\n",
       "<style scoped>\n",
       "    .dataframe tbody tr th:only-of-type {\n",
       "        vertical-align: middle;\n",
       "    }\n",
       "\n",
       "    .dataframe tbody tr th {\n",
       "        vertical-align: top;\n",
       "    }\n",
       "\n",
       "    .dataframe thead th {\n",
       "        text-align: right;\n",
       "    }\n",
       "</style>\n",
       "<table border=\"1\" class=\"dataframe\">\n",
       "  <thead>\n",
       "    <tr style=\"text-align: right;\">\n",
       "      <th></th>\n",
       "      <th>OBJECT_NAME</th>\n",
       "      <th>NORAD_CAT_ID</th>\n",
       "      <th>INTLDES</th>\n",
       "      <th>COUNTRY</th>\n",
       "      <th>LAUNCH_DATE</th>\n",
       "      <th>TLE_DATA</th>\n",
       "    </tr>\n",
       "  </thead>\n",
       "  <tbody>\n",
       "    <tr>\n",
       "      <th>0</th>\n",
       "      <td>DFH-1</td>\n",
       "      <td>4382</td>\n",
       "      <td>1970-034A</td>\n",
       "      <td>PRC</td>\n",
       "      <td>1970-04-24</td>\n",
       "      <td>{'TLE_OBJECT_NAME': 'DFH-1', 'TLE_LINE1': '1 0...</td>\n",
       "    </tr>\n",
       "    <tr>\n",
       "      <th>1</th>\n",
       "      <td>CZ-1 R/B</td>\n",
       "      <td>4392</td>\n",
       "      <td>1970-034B</td>\n",
       "      <td>PRC</td>\n",
       "      <td>1970-04-24</td>\n",
       "      <td>{'TLE_OBJECT_NAME': 'CZ-1 R/B', 'TLE_LINE1': '...</td>\n",
       "    </tr>\n",
       "    <tr>\n",
       "      <th>2</th>\n",
       "      <td>CZ-1 DEB</td>\n",
       "      <td>4400</td>\n",
       "      <td>1970-034C</td>\n",
       "      <td>PRC</td>\n",
       "      <td>1970-04-24</td>\n",
       "      <td>{'TLE_OBJECT_NAME': 'CZ-1 DEB', 'TLE_LINE1': '...</td>\n",
       "    </tr>\n",
       "    <tr>\n",
       "      <th>3</th>\n",
       "      <td>SJ-1</td>\n",
       "      <td>5007</td>\n",
       "      <td>1971-018A</td>\n",
       "      <td>PRC</td>\n",
       "      <td>1971-03-03</td>\n",
       "      <td>{'TLE_OBJECT_NAME': 'SJ-1', 'TLE_LINE1': '1 05...</td>\n",
       "    </tr>\n",
       "    <tr>\n",
       "      <th>4</th>\n",
       "      <td>CZ-1 R/B</td>\n",
       "      <td>5041</td>\n",
       "      <td>1971-018B</td>\n",
       "      <td>PRC</td>\n",
       "      <td>1971-03-03</td>\n",
       "      <td>{'TLE_OBJECT_NAME': 'CZ-1 R/B', 'TLE_LINE1': '...</td>\n",
       "    </tr>\n",
       "    <tr>\n",
       "      <th>...</th>\n",
       "      <td>...</td>\n",
       "      <td>...</td>\n",
       "      <td>...</td>\n",
       "      <td>...</td>\n",
       "      <td>...</td>\n",
       "      <td>...</td>\n",
       "    </tr>\n",
       "    <tr>\n",
       "      <th>8643</th>\n",
       "      <td>OBJECT B</td>\n",
       "      <td>65260</td>\n",
       "      <td>2025-180B</td>\n",
       "      <td>PRC</td>\n",
       "      <td>2025-08-19</td>\n",
       "      <td>{'TLE_OBJECT_NAME': 'OBJECT B', 'TLE_LINE1': '...</td>\n",
       "    </tr>\n",
       "    <tr>\n",
       "      <th>8644</th>\n",
       "      <td>OBJECT C</td>\n",
       "      <td>65261</td>\n",
       "      <td>2025-180C</td>\n",
       "      <td>PRC</td>\n",
       "      <td>2025-08-19</td>\n",
       "      <td>{'TLE_OBJECT_NAME': 'OBJECT C', 'TLE_LINE1': '...</td>\n",
       "    </tr>\n",
       "    <tr>\n",
       "      <th>8645</th>\n",
       "      <td>OBJECT D</td>\n",
       "      <td>65262</td>\n",
       "      <td>2025-180D</td>\n",
       "      <td>PRC</td>\n",
       "      <td>2025-08-19</td>\n",
       "      <td>{'TLE_OBJECT_NAME': 'OBJECT D', 'TLE_LINE1': '...</td>\n",
       "    </tr>\n",
       "    <tr>\n",
       "      <th>8646</th>\n",
       "      <td>OBJECT E</td>\n",
       "      <td>65263</td>\n",
       "      <td>2025-180E</td>\n",
       "      <td>PRC</td>\n",
       "      <td>2025-08-19</td>\n",
       "      <td>{'TLE_OBJECT_NAME': 'OBJECT E', 'TLE_LINE1': '...</td>\n",
       "    </tr>\n",
       "    <tr>\n",
       "      <th>8647</th>\n",
       "      <td>ZK-1A R/B</td>\n",
       "      <td>65264</td>\n",
       "      <td>2025-180F</td>\n",
       "      <td>PRC</td>\n",
       "      <td>2025-08-19</td>\n",
       "      <td>{'TLE_OBJECT_NAME': 'ZK-1A R/B', 'TLE_LINE1': ...</td>\n",
       "    </tr>\n",
       "  </tbody>\n",
       "</table>\n",
       "<p>8648 rows × 6 columns</p>\n",
       "</div>"
      ],
      "text/plain": [
       "     OBJECT_NAME NORAD_CAT_ID    INTLDES COUNTRY LAUNCH_DATE  \\\n",
       "0          DFH-1         4382  1970-034A     PRC  1970-04-24   \n",
       "1       CZ-1 R/B         4392  1970-034B     PRC  1970-04-24   \n",
       "2       CZ-1 DEB         4400  1970-034C     PRC  1970-04-24   \n",
       "3           SJ-1         5007  1971-018A     PRC  1971-03-03   \n",
       "4       CZ-1 R/B         5041  1971-018B     PRC  1971-03-03   \n",
       "...          ...          ...        ...     ...         ...   \n",
       "8643    OBJECT B        65260  2025-180B     PRC  2025-08-19   \n",
       "8644    OBJECT C        65261  2025-180C     PRC  2025-08-19   \n",
       "8645    OBJECT D        65262  2025-180D     PRC  2025-08-19   \n",
       "8646    OBJECT E        65263  2025-180E     PRC  2025-08-19   \n",
       "8647   ZK-1A R/B        65264  2025-180F     PRC  2025-08-19   \n",
       "\n",
       "                                               TLE_DATA  \n",
       "0     {'TLE_OBJECT_NAME': 'DFH-1', 'TLE_LINE1': '1 0...  \n",
       "1     {'TLE_OBJECT_NAME': 'CZ-1 R/B', 'TLE_LINE1': '...  \n",
       "2     {'TLE_OBJECT_NAME': 'CZ-1 DEB', 'TLE_LINE1': '...  \n",
       "3     {'TLE_OBJECT_NAME': 'SJ-1', 'TLE_LINE1': '1 05...  \n",
       "4     {'TLE_OBJECT_NAME': 'CZ-1 R/B', 'TLE_LINE1': '...  \n",
       "...                                                 ...  \n",
       "8643  {'TLE_OBJECT_NAME': 'OBJECT B', 'TLE_LINE1': '...  \n",
       "8644  {'TLE_OBJECT_NAME': 'OBJECT C', 'TLE_LINE1': '...  \n",
       "8645  {'TLE_OBJECT_NAME': 'OBJECT D', 'TLE_LINE1': '...  \n",
       "8646  {'TLE_OBJECT_NAME': 'OBJECT E', 'TLE_LINE1': '...  \n",
       "8647  {'TLE_OBJECT_NAME': 'ZK-1A R/B', 'TLE_LINE1': ...  \n",
       "\n",
       "[8648 rows x 6 columns]"
      ]
     },
     "execution_count": 5,
     "metadata": {},
     "output_type": "execute_result"
    }
   ],
   "source": [
    "# convert it into pandas DataFrame\n",
    "df = pd.DataFrame(raw)\n",
    "df"
   ]
  },
  {
   "cell_type": "code",
   "execution_count": 6,
   "id": "97c8bb0a-05bc-4aa9-8864-cbc1f1ea411d",
   "metadata": {},
   "outputs": [
    {
     "name": "stdout",
     "output_type": "stream",
     "text": [
      "<class 'pandas.core.frame.DataFrame'>\n",
      "RangeIndex: 8648 entries, 0 to 8647\n",
      "Data columns (total 6 columns):\n",
      " #   Column        Non-Null Count  Dtype \n",
      "---  ------        --------------  ----- \n",
      " 0   OBJECT_NAME   8648 non-null   object\n",
      " 1   NORAD_CAT_ID  8648 non-null   object\n",
      " 2   INTLDES       8648 non-null   object\n",
      " 3   COUNTRY       8648 non-null   object\n",
      " 4   LAUNCH_DATE   8648 non-null   object\n",
      " 5   TLE_DATA      8632 non-null   object\n",
      "dtypes: object(6)\n",
      "memory usage: 405.5+ KB\n"
     ]
    }
   ],
   "source": [
    "# Overview of the data\n",
    "df.info()"
   ]
  },
  {
   "cell_type": "code",
   "execution_count": 7,
   "id": "6e68d72c-a1d3-4ad4-af10-59bbb7ee9040",
   "metadata": {},
   "outputs": [
    {
     "data": {
      "text/plain": [
       "COUNTRY\n",
       "PRC    8648\n",
       "Name: count, dtype: int64"
      ]
     },
     "execution_count": 7,
     "metadata": {},
     "output_type": "execute_result"
    }
   ],
   "source": [
    "# Find values and its counts in the COUNTRY feature/column\n",
    "df[\"COUNTRY\"].value_counts()"
   ]
  },
  {
   "cell_type": "code",
   "execution_count": 8,
   "id": "96b8f4dc-7f9b-4c9f-b4d3-dbf914cee9bc",
   "metadata": {},
   "outputs": [
    {
     "data": {
      "text/plain": [
       "OBJECT_NAME      0\n",
       "NORAD_CAT_ID     0\n",
       "INTLDES          0\n",
       "COUNTRY          0\n",
       "LAUNCH_DATE      0\n",
       "TLE_DATA        16\n",
       "dtype: int64"
      ]
     },
     "execution_count": 8,
     "metadata": {},
     "output_type": "execute_result"
    }
   ],
   "source": [
    "# Check null values count per column\n",
    "df.isnull().sum()"
   ]
  }
 ],
 "metadata": {
  "kernelspec": {
   "display_name": "Python [conda env:base] *",
   "language": "python",
   "name": "conda-base-py"
  },
  "language_info": {
   "codemirror_mode": {
    "name": "ipython",
    "version": 3
   },
   "file_extension": ".py",
   "mimetype": "text/x-python",
   "name": "python",
   "nbconvert_exporter": "python",
   "pygments_lexer": "ipython3",
   "version": "3.11.8"
  }
 },
 "nbformat": 4,
 "nbformat_minor": 5
}
