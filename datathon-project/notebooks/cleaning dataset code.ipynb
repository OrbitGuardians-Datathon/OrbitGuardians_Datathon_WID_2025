{
 "cells": [
  {
   "cell_type": "code",
   "execution_count": null,
   "id": "91d2b7a6",
   "metadata": {},
   "outputs": [],
   "source": [
    "import pandas as pd\n",
    "from sklearn.feature_extraction.text import TfidfVectorizer\n",
    "from scipy.sparse import hstack\n",
    "from scipy.sparse import save_npz\n",
    "import os\n",
    "\n",
    "# Step 1: Load the Excel data\n",
    "try:\n",
    "    df = pd.read_excel('../datathon-project/data/Satellite_data.xlsx')\n",
    "except FileNotFoundError:\n",
    "    print(\"Error: The file 'Satellite_data.xlsx' was not found.\")\n",
    "    print(\"Please make sure you are in the correct directory.\")\n",
    "    # Exit or provide a clear path forward\n",
    "    exit()\n",
    "\n",
    "# Step 2: Fill missing values in TLE data with an empty string\n",
    "df['TLE_line_1'] = df['TLE_LINE_1'].fillna('')\n",
    "df['TLE_line_2'] = df['TLE_LINE_2'].fillna('')\n",
    "df['TLE_data'] = df['TLE_line_1'] + ' ' + df['TLE_line_2']\n",
    "\n",
    "# Step 3: Vectorize the textual TLE data using TF-IDF\n",
    "# This step creates a memory-efficient sparse matrix\n",
    "vectorizer = TfidfVectorizer(max_features=10000)\n",
    "tle_features_sparse = vectorizer.fit_transform(df['TLE_data'])\n",
    "\n",
    "# Step 4: One-hot encode categorical features and convert to sparse matrix\n",
    "categorical_features = ['country_code', 'object_type']\n",
    "df_categorical = df[categorical_features]\n",
    "df_categorical_dummies = pd.get_dummies(df_categorical, columns=categorical_features, sparse=True)\n",
    "\n",
    "# Step 5: Convert numerical features to a sparse matrix\n",
    "numerical_features = ['period', 'inclination']\n",
    "df_numerical = df[numerical_features]\n",
    "from scipy.sparse import csr_matrix\n",
    "numerical_features_sparse = csr_matrix(df_numerical.values)\n",
    "\n",
    "# Step 6: Horizontally stack all sparse features into a single matrix\n",
    "all_features_matrix = hstack([tle_features_sparse, df_categorical_dummies, numerical_features_sparse])\n",
    "\n",
    "# Step 7: Save the pre-processed data in a memory-efficient format\n",
    "output_path = '../datathon-project/data/preprocessed_satellite_data.npz'\n",
    "try:\n",
    "    save_npz(output_path, all_features_matrix)\n",
    "    print(f\"Pre-processed data saved successfully to '{output_path}'\")\n",
    "except Exception as e:\n",
    "    print(f\"Error saving file: {e}\")"
   ]
  },
  {
   "cell_type": "code",
   "execution_count": null,
   "id": "e7d05c20",
   "metadata": {},
   "outputs": [],
   "source": []
  }
 ],
 "metadata": {
  "language_info": {
   "name": "python"
  }
 },
 "nbformat": 4,
 "nbformat_minor": 5
}
